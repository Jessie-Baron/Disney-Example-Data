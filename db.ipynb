{
 "cells": [
  {
   "cell_type": "code",
   "execution_count": 76,
   "metadata": {},
   "outputs": [],
   "source": [
    "from pyspark.sql import SparkSession as ps\n",
    "import pyspark.sql.functions as f"
   ]
  },
  {
   "cell_type": "code",
   "execution_count": 46,
   "metadata": {},
   "outputs": [],
   "source": [
    "spark = ps.builder.getOrCreate()"
   ]
  },
  {
   "cell_type": "code",
   "execution_count": 54,
   "metadata": {},
   "outputs": [
    {
     "name": "stdout",
     "output_type": "stream",
     "text": [
      "+---------+------+----------+--------------------+--------------------+-------------------+\n",
      "|      _c0|   _c1|       _c2|                 _c3|                 _c4|                _c5|\n",
      "+---------+------+----------+--------------------+--------------------+-------------------+\n",
      "|Review_ID|Rating|Year_Month|   Reviewer_Location|         Review_Text|             Branch|\n",
      "|670772142|     4|    2019-4|           Australia|If you've ever be...|Disneyland_HongKong|\n",
      "|670682799|     4|    2019-5|         Philippines|Its been a while ...|Disneyland_HongKong|\n",
      "|670623270|     4|    2019-4|United Arab Emirates|Thanks God it was...|Disneyland_HongKong|\n",
      "|670607911|     4|    2019-4|           Australia|HK Disneyland is ...|Disneyland_HongKong|\n",
      "|670607296|     4|    2019-4|      United Kingdom|the location is n...|Disneyland_HongKong|\n",
      "|670591897|     3|    2019-4|           Singapore|Have been to Disn...|Disneyland_HongKong|\n",
      "|670585330|     5|    2019-4|               India|Great place! Your...|Disneyland_HongKong|\n",
      "|670574142|     3|    2019-3|            Malaysia|Think of it as an...|Disneyland_HongKong|\n",
      "|670571027|     2|    2019-4|           Australia|Feel so let down ...|Disneyland_HongKong|\n",
      "|670570869|     5|    2019-3|               India|I can go on talki...|Disneyland_HongKong|\n",
      "|670443403|     5|    2019-4|       United States|Disneyland never ...|Disneyland_HongKong|\n",
      "|670435886|     5|    2019-4|              Canada|We spent the day ...|Disneyland_HongKong|\n",
      "|670376905|     4|    2019-4|           Australia|We spend two days...|Disneyland_HongKong|\n",
      "|670324965|     5|    2019-4|         Philippines|It was indeed the...|Disneyland_HongKong|\n",
      "|670274554|     5|    2018-9|           Australia|This place is HUG...|Disneyland_HongKong|\n",
      "|670205135|     3|    2019-1|      United Kingdom|We brought ticket...|Disneyland_HongKong|\n",
      "|670199487|     4|    2019-4|     Myanmar (Burma)|Its huge , not en...|Disneyland_HongKong|\n",
      "|670129921|     3|    2019-4|      United Kingdom|Around   60 per p...|Disneyland_HongKong|\n",
      "|670099231|     4|    2019-4|           Australia|It   s Disneyland...|Disneyland_HongKong|\n",
      "+---------+------+----------+--------------------+--------------------+-------------------+\n",
      "only showing top 20 rows\n",
      "\n"
     ]
    }
   ],
   "source": [
    "df = spark.read.csv(\"./DisneylandReviews.csv\")\n",
    "df.show()"
   ]
  },
  {
   "cell_type": "code",
   "execution_count": 55,
   "metadata": {},
   "outputs": [
    {
     "name": "stdout",
     "output_type": "stream",
     "text": [
      "+---------+------+----------+--------------------+--------------------+-------------------+\n",
      "|Review_ID|Rating|Year_Month|   Reviewer_Location|         Review_Text|             Branch|\n",
      "+---------+------+----------+--------------------+--------------------+-------------------+\n",
      "|Review_ID|Rating|Year_Month|   Reviewer_Location|         Review_Text|             Branch|\n",
      "|670772142|     4|    2019-4|           Australia|If you've ever be...|Disneyland_HongKong|\n",
      "|670682799|     4|    2019-5|         Philippines|Its been a while ...|Disneyland_HongKong|\n",
      "|670623270|     4|    2019-4|United Arab Emirates|Thanks God it was...|Disneyland_HongKong|\n",
      "|670607911|     4|    2019-4|           Australia|HK Disneyland is ...|Disneyland_HongKong|\n",
      "|670607296|     4|    2019-4|      United Kingdom|the location is n...|Disneyland_HongKong|\n",
      "|670591897|     3|    2019-4|           Singapore|Have been to Disn...|Disneyland_HongKong|\n",
      "|670585330|     5|    2019-4|               India|Great place! Your...|Disneyland_HongKong|\n",
      "|670574142|     3|    2019-3|            Malaysia|Think of it as an...|Disneyland_HongKong|\n",
      "|670571027|     2|    2019-4|           Australia|Feel so let down ...|Disneyland_HongKong|\n",
      "|670570869|     5|    2019-3|               India|I can go on talki...|Disneyland_HongKong|\n",
      "|670443403|     5|    2019-4|       United States|Disneyland never ...|Disneyland_HongKong|\n",
      "|670435886|     5|    2019-4|              Canada|We spent the day ...|Disneyland_HongKong|\n",
      "|670376905|     4|    2019-4|           Australia|We spend two days...|Disneyland_HongKong|\n",
      "|670324965|     5|    2019-4|         Philippines|It was indeed the...|Disneyland_HongKong|\n",
      "|670274554|     5|    2018-9|           Australia|This place is HUG...|Disneyland_HongKong|\n",
      "|670205135|     3|    2019-1|      United Kingdom|We brought ticket...|Disneyland_HongKong|\n",
      "|670199487|     4|    2019-4|     Myanmar (Burma)|Its huge , not en...|Disneyland_HongKong|\n",
      "|670129921|     3|    2019-4|      United Kingdom|Around   60 per p...|Disneyland_HongKong|\n",
      "|670099231|     4|    2019-4|           Australia|It   s Disneyland...|Disneyland_HongKong|\n",
      "+---------+------+----------+--------------------+--------------------+-------------------+\n",
      "only showing top 20 rows\n",
      "\n"
     ]
    }
   ],
   "source": [
    "df_new = df.withColumnRenamed('_c0', 'Review_ID'\n",
    "                              ).withColumnRenamed('_c1', 'Rating'\n",
    "                              ).withColumnRenamed('_c2', 'Year_Month'\n",
    "                              ).withColumnRenamed('_c3', 'Reviewer_Location'\n",
    "                              ).withColumnRenamed('_c4', 'Review_Text'\n",
    "                              ).withColumnRenamed('_c5', 'Branch')\n",
    "df_new.show()"
   ]
  },
  {
   "cell_type": "code",
   "execution_count": 56,
   "metadata": {},
   "outputs": [
    {
     "name": "stdout",
     "output_type": "stream",
     "text": [
      "+---------+------+----------+-----------------+-----------+------+\n",
      "|Review_ID|Rating|Year_Month|Reviewer_Location|Review_Text|Branch|\n",
      "+---------+------+----------+-----------------+-----------+------+\n",
      "|Review_ID|Rating|Year_Month|Reviewer_Location|Review_Text|Branch|\n",
      "+---------+------+----------+-----------------+-----------+------+\n",
      "\n"
     ]
    }
   ],
   "source": [
    "row = df_new.where(df_new.Review_ID == 'Review_ID')\n",
    "row.show()"
   ]
  },
  {
   "cell_type": "code",
   "execution_count": 66,
   "metadata": {},
   "outputs": [
    {
     "name": "stdout",
     "output_type": "stream",
     "text": [
      "+---------+------+----------+--------------------+--------------------+-------------------+\n",
      "|Review_ID|Rating|Year_Month|   Reviewer_Location|         Review_Text|             Branch|\n",
      "+---------+------+----------+--------------------+--------------------+-------------------+\n",
      "|670772142|     4|    2019-4|           Australia|If you've ever be...|Disneyland_HongKong|\n",
      "|670682799|     4|    2019-5|         Philippines|Its been a while ...|Disneyland_HongKong|\n",
      "|670623270|     4|    2019-4|United Arab Emirates|Thanks God it was...|Disneyland_HongKong|\n",
      "|670607911|     4|    2019-4|           Australia|HK Disneyland is ...|Disneyland_HongKong|\n",
      "|670607296|     4|    2019-4|      United Kingdom|the location is n...|Disneyland_HongKong|\n",
      "|670591897|     3|    2019-4|           Singapore|Have been to Disn...|Disneyland_HongKong|\n",
      "|670585330|     5|    2019-4|               India|Great place! Your...|Disneyland_HongKong|\n",
      "|670574142|     3|    2019-3|            Malaysia|Think of it as an...|Disneyland_HongKong|\n",
      "|670571027|     2|    2019-4|           Australia|Feel so let down ...|Disneyland_HongKong|\n",
      "|670570869|     5|    2019-3|               India|I can go on talki...|Disneyland_HongKong|\n",
      "|670443403|     5|    2019-4|       United States|Disneyland never ...|Disneyland_HongKong|\n",
      "|670435886|     5|    2019-4|              Canada|We spent the day ...|Disneyland_HongKong|\n",
      "|670376905|     4|    2019-4|           Australia|We spend two days...|Disneyland_HongKong|\n",
      "|670324965|     5|    2019-4|         Philippines|It was indeed the...|Disneyland_HongKong|\n",
      "|670274554|     5|    2018-9|           Australia|This place is HUG...|Disneyland_HongKong|\n",
      "|670205135|     3|    2019-1|      United Kingdom|We brought ticket...|Disneyland_HongKong|\n",
      "|670199487|     4|    2019-4|     Myanmar (Burma)|Its huge , not en...|Disneyland_HongKong|\n",
      "|670129921|     3|    2019-4|      United Kingdom|Around   60 per p...|Disneyland_HongKong|\n",
      "|670099231|     4|    2019-4|           Australia|It   s Disneyland...|Disneyland_HongKong|\n",
      "|670033848|     5|   2018-11|           Hong Kong|There is nothing ...|Disneyland_HongKong|\n",
      "+---------+------+----------+--------------------+--------------------+-------------------+\n",
      "only showing top 20 rows\n",
      "\n"
     ]
    }
   ],
   "source": [
    "df_new = df_new.filter(df_new.Review_ID >= 0)\n",
    "df_new.show()"
   ]
  },
  {
   "cell_type": "code",
   "execution_count": 69,
   "metadata": {},
   "outputs": [
    {
     "name": "stdout",
     "output_type": "stream",
     "text": [
      "+-----------------+\n",
      "|      avg(Rating)|\n",
      "+-----------------+\n",
      "|4.217695048762191|\n",
      "+-----------------+\n",
      "\n"
     ]
    },
    {
     "name": "stderr",
     "output_type": "stream",
     "text": [
      "                                                                                \r"
     ]
    }
   ],
   "source": [
    "df_new.select(f.avg(df_new.Rating)).show()"
   ]
  },
  {
   "cell_type": "code",
   "execution_count": 70,
   "metadata": {},
   "outputs": [
    {
     "name": "stdout",
     "output_type": "stream",
     "text": [
      "+---------------+\n",
      "|max(Year_Month)|\n",
      "+---------------+\n",
      "|        missing|\n",
      "+---------------+\n",
      "\n"
     ]
    },
    {
     "name": "stderr",
     "output_type": "stream",
     "text": [
      "[Stage 71:===========================================>              (3 + 1) / 4]\r"
     ]
    },
    {
     "name": "stdout",
     "output_type": "stream",
     "text": [
      "+---------------+\n",
      "|min(Year_Month)|\n",
      "+---------------+\n",
      "|        2010-10|\n",
      "+---------------+\n",
      "\n"
     ]
    },
    {
     "name": "stderr",
     "output_type": "stream",
     "text": [
      "                                                                                \r"
     ]
    }
   ],
   "source": [
    "df_new.select(f.max(df_new.Year_Month)).show()\n",
    "df_new.select(f.min(df_new.Year_Month)).show()"
   ]
  },
  {
   "cell_type": "code",
   "execution_count": 61,
   "metadata": {},
   "outputs": [
    {
     "name": "stderr",
     "output_type": "stream",
     "text": [
      "                                                                                \r"
     ]
    },
    {
     "data": {
      "text/plain": [
       "[Row(Rating='3', count=5109),\n",
       " Row(Rating='5', count=23146),\n",
       " Row(Rating='1', count=1499),\n",
       " Row(Rating='4', count=10775),\n",
       " Row(Rating='2', count=2127)]"
      ]
     },
     "execution_count": 61,
     "metadata": {},
     "output_type": "execute_result"
    }
   ],
   "source": [
    "df_new.groupBy('Rating').count().collect()"
   ]
  },
  {
   "cell_type": "code",
   "execution_count": 79,
   "metadata": {},
   "outputs": [
    {
     "name": "stderr",
     "output_type": "stream",
     "text": [
      "                                                                                \r"
     ]
    },
    {
     "data": {
      "text/html": [
       "<div>\n",
       "<style scoped>\n",
       "    .dataframe tbody tr th:only-of-type {\n",
       "        vertical-align: middle;\n",
       "    }\n",
       "\n",
       "    .dataframe tbody tr th {\n",
       "        vertical-align: top;\n",
       "    }\n",
       "\n",
       "    .dataframe thead th {\n",
       "        text-align: right;\n",
       "    }\n",
       "</style>\n",
       "<table border=\"1\" class=\"dataframe\">\n",
       "  <thead>\n",
       "    <tr style=\"text-align: right;\">\n",
       "      <th></th>\n",
       "      <th>Review_ID</th>\n",
       "      <th>Rating</th>\n",
       "      <th>Year_Month</th>\n",
       "      <th>Reviewer_Location</th>\n",
       "      <th>Review_Text</th>\n",
       "      <th>Branch</th>\n",
       "    </tr>\n",
       "  </thead>\n",
       "  <tbody>\n",
       "    <tr>\n",
       "      <th>0</th>\n",
       "      <td>670772142</td>\n",
       "      <td>4</td>\n",
       "      <td>2019-4</td>\n",
       "      <td>Australia</td>\n",
       "      <td>If you've ever been to Disneyland anywhere you...</td>\n",
       "      <td>Disneyland_HongKong</td>\n",
       "    </tr>\n",
       "    <tr>\n",
       "      <th>1</th>\n",
       "      <td>670682799</td>\n",
       "      <td>4</td>\n",
       "      <td>2019-5</td>\n",
       "      <td>Philippines</td>\n",
       "      <td>Its been a while since d last time we visit HK...</td>\n",
       "      <td>Disneyland_HongKong</td>\n",
       "    </tr>\n",
       "    <tr>\n",
       "      <th>2</th>\n",
       "      <td>670623270</td>\n",
       "      <td>4</td>\n",
       "      <td>2019-4</td>\n",
       "      <td>United Arab Emirates</td>\n",
       "      <td>Thanks God it wasn   t too hot or too humid wh...</td>\n",
       "      <td>Disneyland_HongKong</td>\n",
       "    </tr>\n",
       "    <tr>\n",
       "      <th>3</th>\n",
       "      <td>670607911</td>\n",
       "      <td>4</td>\n",
       "      <td>2019-4</td>\n",
       "      <td>Australia</td>\n",
       "      <td>HK Disneyland is a great compact park. Unfortu...</td>\n",
       "      <td>Disneyland_HongKong</td>\n",
       "    </tr>\n",
       "    <tr>\n",
       "      <th>4</th>\n",
       "      <td>670607296</td>\n",
       "      <td>4</td>\n",
       "      <td>2019-4</td>\n",
       "      <td>United Kingdom</td>\n",
       "      <td>the location is not in the city, took around 1...</td>\n",
       "      <td>Disneyland_HongKong</td>\n",
       "    </tr>\n",
       "    <tr>\n",
       "      <th>...</th>\n",
       "      <td>...</td>\n",
       "      <td>...</td>\n",
       "      <td>...</td>\n",
       "      <td>...</td>\n",
       "      <td>...</td>\n",
       "      <td>...</td>\n",
       "    </tr>\n",
       "    <tr>\n",
       "      <th>42651</th>\n",
       "      <td>1765031</td>\n",
       "      <td>5</td>\n",
       "      <td>missing</td>\n",
       "      <td>United Kingdom</td>\n",
       "      <td>i went to disneyland paris in july 03 and thou...</td>\n",
       "      <td>Disneyland_Paris</td>\n",
       "    </tr>\n",
       "    <tr>\n",
       "      <th>42652</th>\n",
       "      <td>1659553</td>\n",
       "      <td>5</td>\n",
       "      <td>missing</td>\n",
       "      <td>Canada</td>\n",
       "      <td>2 adults and 1 child of 11 visited Disneyland ...</td>\n",
       "      <td>Disneyland_Paris</td>\n",
       "    </tr>\n",
       "    <tr>\n",
       "      <th>42653</th>\n",
       "      <td>1645894</td>\n",
       "      <td>5</td>\n",
       "      <td>missing</td>\n",
       "      <td>South Africa</td>\n",
       "      <td>My eleven year old daughter and myself went to...</td>\n",
       "      <td>Disneyland_Paris</td>\n",
       "    </tr>\n",
       "    <tr>\n",
       "      <th>42654</th>\n",
       "      <td>1618637</td>\n",
       "      <td>4</td>\n",
       "      <td>missing</td>\n",
       "      <td>United States</td>\n",
       "      <td>This hotel, part of the Disneyland Paris compl...</td>\n",
       "      <td>Disneyland_Paris</td>\n",
       "    </tr>\n",
       "    <tr>\n",
       "      <th>42655</th>\n",
       "      <td>1536786</td>\n",
       "      <td>4</td>\n",
       "      <td>missing</td>\n",
       "      <td>United Kingdom</td>\n",
       "      <td>I went to the Disneyparis resort, in 1996, wit...</td>\n",
       "      <td>Disneyland_Paris</td>\n",
       "    </tr>\n",
       "  </tbody>\n",
       "</table>\n",
       "<p>42656 rows × 6 columns</p>\n",
       "</div>"
      ],
      "text/plain": [
       "       Review_ID Rating Year_Month     Reviewer_Location  \\\n",
       "0      670772142      4     2019-4             Australia   \n",
       "1      670682799      4     2019-5           Philippines   \n",
       "2      670623270      4     2019-4  United Arab Emirates   \n",
       "3      670607911      4     2019-4             Australia   \n",
       "4      670607296      4     2019-4        United Kingdom   \n",
       "...          ...    ...        ...                   ...   \n",
       "42651    1765031      5    missing        United Kingdom   \n",
       "42652    1659553      5    missing                Canada   \n",
       "42653    1645894      5    missing          South Africa   \n",
       "42654    1618637      4    missing         United States   \n",
       "42655    1536786      4    missing        United Kingdom   \n",
       "\n",
       "                                             Review_Text               Branch  \n",
       "0      If you've ever been to Disneyland anywhere you...  Disneyland_HongKong  \n",
       "1      Its been a while since d last time we visit HK...  Disneyland_HongKong  \n",
       "2      Thanks God it wasn   t too hot or too humid wh...  Disneyland_HongKong  \n",
       "3      HK Disneyland is a great compact park. Unfortu...  Disneyland_HongKong  \n",
       "4      the location is not in the city, took around 1...  Disneyland_HongKong  \n",
       "...                                                  ...                  ...  \n",
       "42651  i went to disneyland paris in july 03 and thou...     Disneyland_Paris  \n",
       "42652  2 adults and 1 child of 11 visited Disneyland ...     Disneyland_Paris  \n",
       "42653  My eleven year old daughter and myself went to...     Disneyland_Paris  \n",
       "42654  This hotel, part of the Disneyland Paris compl...     Disneyland_Paris  \n",
       "42655  I went to the Disneyparis resort, in 1996, wit...     Disneyland_Paris  \n",
       "\n",
       "[42656 rows x 6 columns]"
      ]
     },
     "execution_count": 79,
     "metadata": {},
     "output_type": "execute_result"
    }
   ],
   "source": [
    "pd_df = df_new.toPandas()\n",
    "pd_df"
   ]
  },
  {
   "cell_type": "code",
   "execution_count": 83,
   "metadata": {},
   "outputs": [
    {
     "name": "stderr",
     "output_type": "stream",
     "text": [
      "                                                                                \r"
     ]
    }
   ],
   "source": [
    "df_new.write.csv('./test.csv')"
   ]
  }
 ],
 "metadata": {
  "kernelspec": {
   "display_name": "base",
   "language": "python",
   "name": "python3"
  },
  "language_info": {
   "codemirror_mode": {
    "name": "ipython",
    "version": 3
   },
   "file_extension": ".py",
   "mimetype": "text/x-python",
   "name": "python",
   "nbconvert_exporter": "python",
   "pygments_lexer": "ipython3",
   "version": "3.10.9"
  },
  "orig_nbformat": 4
 },
 "nbformat": 4,
 "nbformat_minor": 2
}
