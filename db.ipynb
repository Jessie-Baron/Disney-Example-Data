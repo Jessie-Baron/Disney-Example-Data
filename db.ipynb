{
 "cells": [
  {
   "cell_type": "code",
   "execution_count": 9,
   "metadata": {},
   "outputs": [],
   "source": [
    "from pyspark.sql import SparkSession as ps\n",
    "import pyspark.sql.functions as f"
   ]
  },
  {
   "cell_type": "code",
   "execution_count": 11,
   "metadata": {},
   "outputs": [],
   "source": [
    "spark = ps.builder.getOrCreate()"
   ]
  },
  {
   "cell_type": "code",
   "execution_count": 36,
   "metadata": {},
   "outputs": [
    {
     "name": "stdout",
     "output_type": "stream",
     "text": [
      "+---------+------+----------+--------------------+--------------------+-------------------+\n",
      "|      _c0|   _c1|       _c2|                 _c3|                 _c4|                _c5|\n",
      "+---------+------+----------+--------------------+--------------------+-------------------+\n",
      "|Review_ID|Rating|Year_Month|   Reviewer_Location|         Review_Text|             Branch|\n",
      "|670772142|     4|    2019-4|           Australia|If you've ever be...|Disneyland_HongKong|\n",
      "|670682799|     4|    2019-5|         Philippines|Its been a while ...|Disneyland_HongKong|\n",
      "|670623270|     4|    2019-4|United Arab Emirates|Thanks God it was...|Disneyland_HongKong|\n",
      "|670607911|     4|    2019-4|           Australia|HK Disneyland is ...|Disneyland_HongKong|\n",
      "|670607296|     4|    2019-4|      United Kingdom|the location is n...|Disneyland_HongKong|\n",
      "|670591897|     3|    2019-4|           Singapore|Have been to Disn...|Disneyland_HongKong|\n",
      "|670585330|     5|    2019-4|               India|Great place! Your...|Disneyland_HongKong|\n",
      "|670574142|     3|    2019-3|            Malaysia|Think of it as an...|Disneyland_HongKong|\n",
      "|670571027|     2|    2019-4|           Australia|Feel so let down ...|Disneyland_HongKong|\n",
      "|670570869|     5|    2019-3|               India|I can go on talki...|Disneyland_HongKong|\n",
      "|670443403|     5|    2019-4|       United States|Disneyland never ...|Disneyland_HongKong|\n",
      "|670435886|     5|    2019-4|              Canada|We spent the day ...|Disneyland_HongKong|\n",
      "|670376905|     4|    2019-4|           Australia|We spend two days...|Disneyland_HongKong|\n",
      "|670324965|     5|    2019-4|         Philippines|It was indeed the...|Disneyland_HongKong|\n",
      "|670274554|     5|    2018-9|           Australia|This place is HUG...|Disneyland_HongKong|\n",
      "|670205135|     3|    2019-1|      United Kingdom|We brought ticket...|Disneyland_HongKong|\n",
      "|670199487|     4|    2019-4|     Myanmar (Burma)|Its huge , not en...|Disneyland_HongKong|\n",
      "|670129921|     3|    2019-4|      United Kingdom|Around   60 per p...|Disneyland_HongKong|\n",
      "|670099231|     4|    2019-4|           Australia|It   s Disneyland...|Disneyland_HongKong|\n",
      "+---------+------+----------+--------------------+--------------------+-------------------+\n",
      "only showing top 20 rows\n",
      "\n"
     ]
    }
   ],
   "source": [
    "df = spark.read.csv(\"./DisneylandReviews.csv\")\n",
    "df.show()"
   ]
  },
  {
   "cell_type": "code",
   "execution_count": 37,
   "metadata": {},
   "outputs": [
    {
     "name": "stdout",
     "output_type": "stream",
     "text": [
      "+---------+------+----------+--------------------+--------------------+-------------------+\n",
      "|Review_ID|Rating|Year_Month|   Reviewer_Location|         Review_Text|             Branch|\n",
      "+---------+------+----------+--------------------+--------------------+-------------------+\n",
      "|Review_ID|Rating|Year_Month|   Reviewer_Location|         Review_Text|             Branch|\n",
      "|670772142|     4|    2019-4|           Australia|If you've ever be...|Disneyland_HongKong|\n",
      "|670682799|     4|    2019-5|         Philippines|Its been a while ...|Disneyland_HongKong|\n",
      "|670623270|     4|    2019-4|United Arab Emirates|Thanks God it was...|Disneyland_HongKong|\n",
      "|670607911|     4|    2019-4|           Australia|HK Disneyland is ...|Disneyland_HongKong|\n",
      "|670607296|     4|    2019-4|      United Kingdom|the location is n...|Disneyland_HongKong|\n",
      "|670591897|     3|    2019-4|           Singapore|Have been to Disn...|Disneyland_HongKong|\n",
      "|670585330|     5|    2019-4|               India|Great place! Your...|Disneyland_HongKong|\n",
      "|670574142|     3|    2019-3|            Malaysia|Think of it as an...|Disneyland_HongKong|\n",
      "|670571027|     2|    2019-4|           Australia|Feel so let down ...|Disneyland_HongKong|\n",
      "|670570869|     5|    2019-3|               India|I can go on talki...|Disneyland_HongKong|\n",
      "|670443403|     5|    2019-4|       United States|Disneyland never ...|Disneyland_HongKong|\n",
      "|670435886|     5|    2019-4|              Canada|We spent the day ...|Disneyland_HongKong|\n",
      "|670376905|     4|    2019-4|           Australia|We spend two days...|Disneyland_HongKong|\n",
      "|670324965|     5|    2019-4|         Philippines|It was indeed the...|Disneyland_HongKong|\n",
      "|670274554|     5|    2018-9|           Australia|This place is HUG...|Disneyland_HongKong|\n",
      "|670205135|     3|    2019-1|      United Kingdom|We brought ticket...|Disneyland_HongKong|\n",
      "|670199487|     4|    2019-4|     Myanmar (Burma)|Its huge , not en...|Disneyland_HongKong|\n",
      "|670129921|     3|    2019-4|      United Kingdom|Around   60 per p...|Disneyland_HongKong|\n",
      "|670099231|     4|    2019-4|           Australia|It   s Disneyland...|Disneyland_HongKong|\n",
      "+---------+------+----------+--------------------+--------------------+-------------------+\n",
      "only showing top 20 rows\n",
      "\n"
     ]
    }
   ],
   "source": [
    "df_new = df.withColumnRenamed('_c0', 'Review_ID'\n",
    "                              ).withColumnRenamed('_c1', 'Rating'\n",
    "                              ).withColumnRenamed('_c2', 'Year_Month'\n",
    "                              ).withColumnRenamed('_c3', 'Reviewer_Location'\n",
    "                              ).withColumnRenamed('_c4', 'Review_Text'\n",
    "                              ).withColumnRenamed('_c5', 'Branch')\n",
    "df_new.show()"
   ]
  },
  {
   "cell_type": "code",
   "execution_count": 40,
   "metadata": {},
   "outputs": [
    {
     "name": "stdout",
     "output_type": "stream",
     "text": [
      "+---------+------+----------+-----------------+-----------+------+\n",
      "|Review_ID|Rating|Year_Month|Reviewer_Location|Review_Text|Branch|\n",
      "+---------+------+----------+-----------------+-----------+------+\n",
      "|Review_ID|Rating|Year_Month|Reviewer_Location|Review_Text|Branch|\n",
      "+---------+------+----------+-----------------+-----------+------+\n",
      "\n"
     ]
    }
   ],
   "source": [
    "row = df_new.where(df_new.Review_ID == 'Review_ID')\n",
    "row.show()"
   ]
  },
  {
   "cell_type": "code",
   "execution_count": 41,
   "metadata": {},
   "outputs": [
    {
     "name": "stdout",
     "output_type": "stream",
     "text": [
      "+---------+------+----------+--------------------+--------------------+-------------------+\n",
      "|Review_ID|Rating|Year_Month|   Reviewer_Location|         Review_Text|             Branch|\n",
      "+---------+------+----------+--------------------+--------------------+-------------------+\n",
      "|670772142|     4|    2019-4|           Australia|If you've ever be...|Disneyland_HongKong|\n",
      "|670682799|     4|    2019-5|         Philippines|Its been a while ...|Disneyland_HongKong|\n",
      "|670623270|     4|    2019-4|United Arab Emirates|Thanks God it was...|Disneyland_HongKong|\n",
      "|670607911|     4|    2019-4|           Australia|HK Disneyland is ...|Disneyland_HongKong|\n",
      "|670607296|     4|    2019-4|      United Kingdom|the location is n...|Disneyland_HongKong|\n",
      "|670591897|     3|    2019-4|           Singapore|Have been to Disn...|Disneyland_HongKong|\n",
      "|670585330|     5|    2019-4|               India|Great place! Your...|Disneyland_HongKong|\n",
      "|670574142|     3|    2019-3|            Malaysia|Think of it as an...|Disneyland_HongKong|\n",
      "|670571027|     2|    2019-4|           Australia|Feel so let down ...|Disneyland_HongKong|\n",
      "|670570869|     5|    2019-3|               India|I can go on talki...|Disneyland_HongKong|\n",
      "|670443403|     5|    2019-4|       United States|Disneyland never ...|Disneyland_HongKong|\n",
      "|670435886|     5|    2019-4|              Canada|We spent the day ...|Disneyland_HongKong|\n",
      "|670376905|     4|    2019-4|           Australia|We spend two days...|Disneyland_HongKong|\n",
      "|670324965|     5|    2019-4|         Philippines|It was indeed the...|Disneyland_HongKong|\n",
      "|670274554|     5|    2018-9|           Australia|This place is HUG...|Disneyland_HongKong|\n",
      "|670205135|     3|    2019-1|      United Kingdom|We brought ticket...|Disneyland_HongKong|\n",
      "|670199487|     4|    2019-4|     Myanmar (Burma)|Its huge , not en...|Disneyland_HongKong|\n",
      "|670129921|     3|    2019-4|      United Kingdom|Around   60 per p...|Disneyland_HongKong|\n",
      "|670099231|     4|    2019-4|           Australia|It   s Disneyland...|Disneyland_HongKong|\n",
      "|670033848|     5|   2018-11|           Hong Kong|There is nothing ...|Disneyland_HongKong|\n",
      "+---------+------+----------+--------------------+--------------------+-------------------+\n",
      "only showing top 20 rows\n",
      "\n"
     ]
    }
   ],
   "source": [
    "df_new = df_new.filter(df_new.Review_ID >= 0).show()"
   ]
  }
 ],
 "metadata": {
  "kernelspec": {
   "display_name": "base",
   "language": "python",
   "name": "python3"
  },
  "language_info": {
   "codemirror_mode": {
    "name": "ipython",
    "version": 3
   },
   "file_extension": ".py",
   "mimetype": "text/x-python",
   "name": "python",
   "nbconvert_exporter": "python",
   "pygments_lexer": "ipython3",
   "version": "3.10.9"
  },
  "orig_nbformat": 4
 },
 "nbformat": 4,
 "nbformat_minor": 2
}
